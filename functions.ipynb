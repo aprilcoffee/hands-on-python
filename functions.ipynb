{
 "cells": [
  {
   "cell_type": "markdown",
   "metadata": {},
   "source": [
    "# Functions\n",
    "\n",
    "We have seen and used functions before in the [sequencing Notebook]().\n",
    "\n",
    "Functions are algorithms (**operators**) that perform operations on data (**operands**).\n",
    "\n",
    "A function that we have used very often is `print()`. It takes an **argument** inside the `()` and performs an operation."
   ]
  },
  {
   "cell_type": "code",
   "execution_count": 1,
   "metadata": {},
   "outputs": [
    {
     "name": "stdout",
     "output_type": "stream",
     "text": [
      "He Hazardous of we strong\n",
      "follow bacteria walks\n",
      "by town guy place\n"
     ]
    }
   ],
   "source": [
    "TEXT = '''He Hazardous of we strong\n",
    "follow bacteria walks\n",
    "by town guy place'''\n",
    "print(TEXT)"
   ]
  },
  {
   "cell_type": "markdown",
   "metadata": {},
   "source": [
    "## Define your own functions\n",
    "\n",
    "We can use a lot of built-in functions.<br>\n",
    "But we can also write our own functions.<br>\n",
    "We will start with a very small function, which adds two numbers together.<br>\n",
    "We can create a function with the `def` keyword.<br>\n",
    "After that we write a name (starting with an alphabetical character).<br>\n",
    "This is close to initializing a variable.<br>"
   ]
  },
  {
   "cell_type": "code",
   "execution_count": 2,
   "metadata": {},
   "outputs": [],
   "source": [
    "''' A function to add two values of the same data type. '''\n",
    "\n",
    "def add(a, b):\n",
    "    # our function requires two arguments a and b\n",
    "    # we can use this variables inside our function\n",
    "    result = a + b\n",
    "    # after we have summed the two values,\n",
    "    # we can return the result\n",
    "    return result"
   ]
  },
  {
   "cell_type": "markdown",
   "metadata": {},
   "source": [
    "After we have executed the code above, this function becomes available and we can use it."
   ]
  },
  {
   "cell_type": "code",
   "execution_count": 3,
   "metadata": {},
   "outputs": [
    {
     "data": {
      "text/plain": [
       "12"
      ]
     },
     "execution_count": 3,
     "metadata": {},
     "output_type": "execute_result"
    }
   ],
   "source": [
    "add(5, 7)"
   ]
  },
  {
   "cell_type": "markdown",
   "metadata": {},
   "source": [
    "We have not defined of which **type** our arguments have to be. So we can insert strings as well."
   ]
  },
  {
   "cell_type": "code",
   "execution_count": 4,
   "metadata": {},
   "outputs": [
    {
     "data": {
      "text/plain": [
       "'twostrings'"
      ]
     },
     "execution_count": 4,
     "metadata": {},
     "output_type": "execute_result"
    }
   ],
   "source": [
    "add('two', 'strings')"
   ]
  },
  {
   "cell_type": "code",
   "execution_count": 5,
   "metadata": {},
   "outputs": [
    {
     "data": {
      "text/plain": [
       "['He Hazardous', 'of we strong']"
      ]
     },
     "execution_count": 5,
     "metadata": {},
     "output_type": "execute_result"
    }
   ],
   "source": [
    "# or lists\n",
    "add(['He Hazardous'], ['of we strong'])"
   ]
  },
  {
   "cell_type": "markdown",
   "metadata": {},
   "source": [
    "As you see we have used the function several times already.<br>\n",
    "Using functions is often helpful to make the code more **readable**,<br>\n",
    "but more important: we can use the functions **several times** without rewriting our code.\n",
    "\n",
    "Let's write a custom print function.<br>\n",
    "For that we need a built-in function called modulo (`%`). With this we can check if a number is even or odd."
   ]
  },
  {
   "cell_type": "code",
   "execution_count": 6,
   "metadata": {},
   "outputs": [
    {
     "name": "stdout",
     "output_type": "stream",
     "text": [
      "1\n",
      "0\n"
     ]
    }
   ],
   "source": [
    "print(3 % 2)\n",
    "print(4 % 2)\n",
    "\n",
    "# if it is even the output is 0"
   ]
  },
  {
   "cell_type": "code",
   "execution_count": 7,
   "metadata": {},
   "outputs": [],
   "source": [
    "def custom_print(text):\n",
    "    # we will print every 2nd word\n",
    "    # first we remove the linebreaks (\\n)\n",
    "    text = text.replace('\\n', ' ')\n",
    "    # then we split it into single words\n",
    "    text = text.split(' ')\n",
    "    \n",
    "    # create an empty variable to store our output\n",
    "    output = ''\n",
    "    \n",
    "    # loop through the list of words\n",
    "    for i in range(len(text)):\n",
    "        \n",
    "        # if i is even we will print the word,\n",
    "        # otherwise ignore it\n",
    "        if i % 2 == 0:\n",
    "            # append the word\n",
    "            output += text[i]\n",
    "            # append a whitespace\n",
    "            output += ' '\n",
    "            \n",
    "    # when the loop is finished, we have our new text\n",
    "    # we will remove the last whitespace\n",
    "    output = output[:-1]\n",
    "    \n",
    "    # then instead of returning it, we can\n",
    "    # print it directly\n",
    "    print(output)"
   ]
  },
  {
   "cell_type": "code",
   "execution_count": 8,
   "metadata": {},
   "outputs": [
    {
     "name": "stdout",
     "output_type": "stream",
     "text": [
      "He of strong bacteria by guy\n"
     ]
    }
   ],
   "source": [
    "custom_print(TEXT)"
   ]
  },
  {
   "cell_type": "markdown",
   "metadata": {},
   "source": [
    "### Optional arguments\n",
    "\n",
    "Next we will add another argument to our function.<br>\n",
    "If we assign a value to the argument in our definition,<br>\n",
    "then this argument is optional."
   ]
  },
  {
   "cell_type": "code",
   "execution_count": 9,
   "metadata": {},
   "outputs": [
    {
     "data": {
      "text/plain": [
       "12"
      ]
     },
     "execution_count": 9,
     "metadata": {},
     "output_type": "execute_result"
    }
   ],
   "source": [
    "def add(a, b=7):\n",
    "    return a+b\n",
    "\n",
    "add(5)"
   ]
  },
  {
   "cell_type": "code",
   "execution_count": 10,
   "metadata": {},
   "outputs": [
    {
     "data": {
      "text/plain": [
       "4"
      ]
     },
     "execution_count": 10,
     "metadata": {},
     "output_type": "execute_result"
    }
   ],
   "source": [
    "add(5, -1)"
   ]
  },
  {
   "cell_type": "markdown",
   "metadata": {},
   "source": [
    "We will modify our function from above. With an optional additional argument it is possible to skip a custom number of words."
   ]
  },
  {
   "cell_type": "code",
   "execution_count": 11,
   "metadata": {},
   "outputs": [],
   "source": [
    "def custom_print(text, skip=1):\n",
    "    # we will print every 2nd word\n",
    "    # first we remove the linebreaks (\\n)\n",
    "    text = text.replace('\\n', ' ')\n",
    "    # then we split it into single words\n",
    "    text = text.split(' ')\n",
    "    \n",
    "    # create an empty variable to store our output\n",
    "    output = ''\n",
    "    \n",
    "    # loop through the list of words\n",
    "    for i in range(len(text)):\n",
    "        \n",
    "        if i % (skip+1) == 0:\n",
    "            # append the word\n",
    "            output += text[i]\n",
    "            # append a whitespace\n",
    "            output += ' '\n",
    "            \n",
    "    # when the loop is finished, we have our new text\n",
    "    # we will remove the last whitespace\n",
    "    output = output[:-1]\n",
    "    \n",
    "    # then instead of returning it, we can\n",
    "    # print it directly\n",
    "    print(output)"
   ]
  },
  {
   "cell_type": "code",
   "execution_count": 12,
   "metadata": {},
   "outputs": [
    {
     "name": "stdout",
     "output_type": "stream",
     "text": [
      "He of strong bacteria by guy\n",
      "\n",
      "\n",
      "He we bacteria town\n"
     ]
    }
   ],
   "source": [
    "custom_print(TEXT)\n",
    "print('\\n')\n",
    "custom_print(TEXT, 2)"
   ]
  }
 ],
 "metadata": {
  "kernelspec": {
   "display_name": "Python 3",
   "language": "python",
   "name": "python3"
  },
  "language_info": {
   "codemirror_mode": {
    "name": "ipython",
    "version": 3
   },
   "file_extension": ".py",
   "mimetype": "text/x-python",
   "name": "python",
   "nbconvert_exporter": "python",
   "pygments_lexer": "ipython3",
   "version": "3.8.5"
  }
 },
 "nbformat": 4,
 "nbformat_minor": 4
}
